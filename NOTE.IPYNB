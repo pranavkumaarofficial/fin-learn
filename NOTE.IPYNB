{
 "cells": [
  {
   "cell_type": "code",
   "execution_count": 1,
   "id": "859c26f4",
   "metadata": {},
   "outputs": [
    {
     "name": "stdout",
     "output_type": "stream",
     "text": [
      "Note: you may need to restart the kernel to use updated packages.\n"
     ]
    },
    {
     "name": "stderr",
     "output_type": "stream",
     "text": [
      "\n",
      "[notice] A new release of pip is available: 24.2 -> 25.1.1\n",
      "[notice] To update, run: python.exe -m pip install --upgrade pip\n"
     ]
    }
   ],
   "source": [
    "%pip install pymupdf -q"
   ]
  },
  {
   "cell_type": "code",
   "execution_count": 2,
   "id": "5e45c8be",
   "metadata": {},
   "outputs": [
    {
     "name": "stdout",
     "output_type": "stream",
     "text": [
      "Extracted pages 13-35 to contents.md\n"
     ]
    }
   ],
   "source": [
    "import fitz  # PyMuPDF\n",
    "\n",
    "def extract_pdf_pages_to_md(pdf_path, start_page, end_page, output_md_path):\n",
    "    # Open the PDF\n",
    "    doc = fitz.open(pdf_path)\n",
    "    \n",
    "    # Adjust for 0-based indexing\n",
    "    start = start_page - 1\n",
    "    end = end_page\n",
    "\n",
    "    # Extract text from specified range\n",
    "    extracted_text = \"\"\n",
    "    for page_num in range(start, end):\n",
    "        page = doc.load_page(page_num)\n",
    "        extracted_text += f\"\\n\\n## Page {page_num + 1}\\n\\n\"\n",
    "        extracted_text += page.get_text(\"text\")\n",
    "\n",
    "    # Save to markdown file\n",
    "    with open(output_md_path, \"w\", encoding=\"utf-8\") as md_file:\n",
    "        md_file.write(extracted_text)\n",
    "\n",
    "    print(f\"Extracted pages {start_page}-{end_page} to {output_md_path}\")\n",
    "\n",
    "# === USAGE ===\n",
    "extract_pdf_pages_to_md(\n",
    "    pdf_path=\"file.pdf\",        # Change to your PDF path\n",
    "    start_page=13,\n",
    "    end_page=35,\n",
    "    output_md_path=\"contents.md\"       # Output markdown file\n",
    ")\n"
   ]
  }
 ],
 "metadata": {
  "kernelspec": {
   "display_name": "chai",
   "language": "python",
   "name": "python3"
  },
  "language_info": {
   "codemirror_mode": {
    "name": "ipython",
    "version": 3
   },
   "file_extension": ".py",
   "mimetype": "text/x-python",
   "name": "python",
   "nbconvert_exporter": "python",
   "pygments_lexer": "ipython3",
   "version": "3.9.18"
  }
 },
 "nbformat": 4,
 "nbformat_minor": 5
}
